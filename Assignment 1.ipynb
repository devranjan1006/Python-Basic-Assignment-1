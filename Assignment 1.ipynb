{
 "cells": [
  {
   "cell_type": "markdown",
   "metadata": {},
   "source": [
    "# Assignment 1"
   ]
  },
  {
   "cell_type": "code",
   "execution_count": 4,
   "metadata": {},
   "outputs": [],
   "source": [
    "#Question 1"
   ]
  },
  {
   "cell_type": "code",
   "execution_count": null,
   "metadata": {},
   "outputs": [],
   "source": [
    "'''\n",
    "Value is something that gets stored into memory or gets operated upon by any operation.\n",
    "Operator is something which is used to perform certain operation on a value or a variable.\n",
    "\n",
    "\n",
    "* : Multiplication operator\n",
    "\n",
    "'hello' : string value\n",
    "\n",
    "-87.8 : float value\n",
    "\n",
    "- : minus operator\n",
    "\n",
    "/  : division operator\n",
    "\n",
    "+  : addition operator \n",
    "\n",
    "6  : integer value\n",
    "\n",
    "'''"
   ]
  },
  {
   "cell_type": "code",
   "execution_count": null,
   "metadata": {},
   "outputs": [],
   "source": [
    "#Question 2"
   ]
  },
  {
   "cell_type": "markdown",
   "metadata": {},
   "source": [
    "\n",
    "String is one of the data types and variable is basically a temporary memory location allocated to store a value.\n",
    "\n",
    "\n",
    "'spam' is string.\n",
    "\n",
    "spam is a variable which is going to certain type of value which may be of any data type.\n"
   ]
  },
  {
   "cell_type": "code",
   "execution_count": null,
   "metadata": {},
   "outputs": [],
   "source": [
    "#Question 3"
   ]
  },
  {
   "cell_type": "markdown",
   "metadata": {},
   "source": [
    "1. String: It is a datatype which stores a character or a sequence of characters. Tghe way of expressing a string is writing its between two quotes. for eg: 'devranjan' or \"devranjan\"\n",
    "2. Integer: It is a datatype which stores whole numbers.It stores both positive and negative value. for eg: 2,8,-9\n",
    "3. Float: It is a datatype which stores decimal or floating point values. It stores both positive and negative value. for eg: 2.3, 8.678, -9.325 "
   ]
  },
  {
   "cell_type": "code",
   "execution_count": null,
   "metadata": {},
   "outputs": [],
   "source": [
    "#Question 4"
   ]
  },
  {
   "cell_type": "markdown",
   "metadata": {},
   "source": [
    "An expression is a combination of certain operators and operands. This expressions performs some operations on the values and variables depending upon the type and function mof the opertators used in the expression.\n",
    "for eg: profit = sp - cp . In this example we are assigning a value to the variable profit by subtracting the values held by the variables sp and cp."
   ]
  },
  {
   "cell_type": "code",
   "execution_count": null,
   "metadata": {},
   "outputs": [],
   "source": [
    "#Question 5"
   ]
  },
  {
   "cell_type": "markdown",
   "metadata": {},
   "source": [
    "An expression or a statement both perform certain operation but there are certain difference between them. If we can print or assign a result obatined by the function to a variable then it is an expression or else it is and statement. An expression returns a value whereas statement doesn't.\n",
    "\n",
    "1. An expression is a combination of certain operators and operands. This expressions performs some operations on the values and variables depending upon the type and function mof the opertators used in the expression. for eg: speed = dis / time . In this example we are assigning a value to the variable speed by dividing the values held by the variables dis and time.\n",
    "\n",
    "2. Whereas statement which only performs a particular function without  storing any value. It can be direct function or a logical statement, function defination or print statement etc. for eg: print(a), if-else statements etc."
   ]
  },
  {
   "cell_type": "code",
   "execution_count": 3,
   "metadata": {},
   "outputs": [
    {
     "name": "stdout",
     "output_type": "stream",
     "text": [
      "22\n"
     ]
    }
   ],
   "source": [
    "#Question 6\n",
    "\n",
    "bacon = 22\n",
    "bacon+1\n",
    "print(bacon)\n"
   ]
  },
  {
   "cell_type": "markdown",
   "metadata": {},
   "source": [
    "Hence the value of bacon will be the same as before.\n",
    "This is because bacon+1 is a simple statement and not being assigned to the variable bacon. This statement is doing a simple calculation but not storing it in the memory place of bacon or any other memory place."
   ]
  },
  {
   "cell_type": "code",
   "execution_count": 5,
   "metadata": {},
   "outputs": [
    {
     "name": "stdout",
     "output_type": "stream",
     "text": [
      "spamspamspam\n",
      "spamspamspam\n"
     ]
    }
   ],
   "source": [
    "#Question 7\n",
    "\n",
    "print('spam'+'spamspam')\n",
    "print('spam'*3)"
   ]
  },
  {
   "cell_type": "markdown",
   "metadata": {},
   "source": [
    "Both the statement will have the same output. This is because in the first statement the single spam is concatenated with the double spam which results into three spams. Whereas the second statement demands to print the spam three times. Therefore both the sattement produces similar results."
   ]
  },
  {
   "cell_type": "code",
   "execution_count": 6,
   "metadata": {},
   "outputs": [],
   "source": [
    "#Question 8"
   ]
  },
  {
   "cell_type": "markdown",
   "metadata": {},
   "source": [
    "There are certain rules associated with naming of a variable\n",
    "R1: A variable name can only start with an alphabet or underscore(_) character.\n",
    "R2: A variable name can only contain A-Z,a-z,0-9 and underscore(_).\n",
    "R3: A variable name cannot start with a number.\n",
    "R4: Special characters such as $,% ,# ,& ,@, -, ^  etc cannot be used in naming a variable.\n",
    "R5: Reserved keywords cannot be used as a variable name. for eg. keywords like class, for, def, del, is, else, try, from, etc.\n",
    "\n",
    "1. 'eggs' is a variable name because it satisfies all the conditions for naming a variable i.e. it starts with an alphabet and not a number. Also it is not an reserved keyword. \n",
    "2. 100 doesnt satisfy the condition of naming the variable as it is starting with an integer which is not permitted. If it would had been started with a underscore or an alphabet followed by a number it would have been acceptable. for eg: _100 , a100"
   ]
  },
  {
   "cell_type": "code",
   "execution_count": null,
   "metadata": {},
   "outputs": [],
   "source": [
    "#Question 9"
   ]
  },
  {
   "cell_type": "markdown",
   "metadata": {},
   "source": [
    "1. To convert a value into integer we will use the function int(value). for eg: int(a) where a is a variable which has a value other than integer.\n",
    "2. To convert a value into integer we will use the function float(value). for eg: float(b) where b is a variable which has a value other than floating point number.\n",
    "3. To convert a value into integer we will use the function str(value). for eg: str(c) where c is a variable which has a value other than string.\n",
    "\n",
    "The above methods are known as type casting."
   ]
  },
  {
   "cell_type": "code",
   "execution_count": 1,
   "metadata": {},
   "outputs": [],
   "source": [
    "#Question 10"
   ]
  },
  {
   "cell_type": "markdown",
   "metadata": {},
   "source": [
    "The error in that statement is that we are tring to concatenate two different data types which is not permitted. Concatenation could have been possible only when all the values in the given statement were string. We can rectify the error by typecasting the the integer value into string.\n",
    "The rectified statement is as under:\n"
   ]
  },
  {
   "cell_type": "code",
   "execution_count": 9,
   "metadata": {},
   "outputs": [
    {
     "data": {
      "text/plain": [
       "'I have eaten 99 buritos.'"
      ]
     },
     "execution_count": 9,
     "metadata": {},
     "output_type": "execute_result"
    }
   ],
   "source": [
    "'I have eaten '+str(99)+' buritos.'"
   ]
  }
 ],
 "metadata": {
  "kernelspec": {
   "display_name": "Python 3",
   "language": "python",
   "name": "python3"
  },
  "language_info": {
   "codemirror_mode": {
    "name": "ipython",
    "version": 3
   },
   "file_extension": ".py",
   "mimetype": "text/x-python",
   "name": "python",
   "nbconvert_exporter": "python",
   "pygments_lexer": "ipython3",
   "version": "3.8.5"
  }
 },
 "nbformat": 4,
 "nbformat_minor": 4
}
